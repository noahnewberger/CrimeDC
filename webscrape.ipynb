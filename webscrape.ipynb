{
 "cells": [
  {
   "cell_type": "code",
   "execution_count": 1,
   "metadata": {
    "collapsed": true
   },
   "outputs": [],
   "source": [
    "from bs4 import BeautifulSoup as bs\n",
    "from bs4 import Tag, NavigableString\n",
    "import re\n",
    "import requests as r\n",
    "import pandas as pd\n",
    "import numpy as np\n",
    "import datetime\n",
    "import csv\n",
    "import os\n",
    "import sys\n",
    "from selenium import webdriver\n",
    "%load_ext autoreload\n",
    "%autoreload 2\n",
    "%matplotlib inline"
   ]
  },
  {
   "cell_type": "code",
   "execution_count": 2,
   "metadata": {
    "collapsed": true
   },
   "outputs": [],
   "source": [
    "def check_save(file_path):\n",
    "    path = ('data/{}'.format(file_path))\n",
    "    if os.path.exists(path):\n",
    "        os.remove(path)\n",
    "    else:\n",
    "        print(\"{} does not exist\".format(file_path))\n",
    "    \n",
    "\n",
    "def write_out(file_path, url):\n",
    "    path = ('data/{}'.format(file_path))\n",
    "    print(file_path)\n",
    "    with open(path, mode='w', newline='') as file:\n",
    "        file_writer = csv.writer(file, delimiter=',')\n",
    "        print(url)\n",
    "        with r.get(url, verify=False, stream=True) as res:\n",
    "            lines = (line.decode('utf-8',errors='ignore').replace('\\0','') for line in res.iter_lines())\n",
    "            for row in csv.reader(lines):\n",
    "                print(row)\n",
    "                file_writer.writerow(row)\n",
    "\n",
    "                \n",
    "                \n",
    "def create_stuff(file_path,url):\n",
    "    check_save(file_path)\n",
    "    write_out(file_path,url)\n",
    "    \n",
    "def stack_csvs(my_url):\n",
    "    with open(path, mode='w', newline='') as file:\n",
    "        file_writer = csv.writer(file, delimiter=',')\n",
    "        print(url)\n",
    "        with r.get(url, verify=False, stream=True) as res:\n",
    "            lines = (line.decode('utf-8',errors='ignore').replace('\\0','') for line in res.iter_lines())\n",
    "            for row in csv.reader(lines):\n",
    "                print(row)\n",
    "                file_writer.writerow(row)"
   ]
  },
  {
   "cell_type": "code",
   "execution_count": 12,
   "metadata": {},
   "outputs": [],
   "source": [
    "#Downloads the .csv file of all mobility data from the google mobility site\n",
    "#goog_files = os.getcwd()+'/data'\n",
    "\n",
    "\n",
    "output = open('traffic_stops.csv', 'wb')\n",
    "\n",
    "        \n",
    "my_url = ['https://mpdc.dc.gov/node/1429041','https://mpdc.dc.gov/node/1464816']\n",
    "for url in my_url:\n",
    "    html = r.get(url)\n",
    "    soup = bs(html.content,'lxml')\n",
    "    current_link = ''\n",
    "    for l in soup.find_all('a'):\n",
    "        current_link = l.get('href')\n",
    "        if current_link != None:\n",
    "            #print(current_link)\n",
    "            if current_link.find('csv')> 0:\n",
    "                xlsx_file = r.get(current_link)\n",
    "                output.write(xlsx_file.content)\n",
    "            '''        myfile = r.get(current_link)\n",
    "                open('{}/{}'.format(goog_files, current_link.rsplit('/', 1)[1].rsplit('.csv',1)[0] + '.csv') ,'wb').write(myfile.content)\n",
    "                break'''\n",
    "output.close()"
   ]
  },
  {
   "cell_type": "code",
   "execution_count": 15,
   "metadata": {},
   "outputs": [
    {
     "name": "stderr",
     "output_type": "stream",
     "text": [
      "C:\\Users\\Noah\\Anaconda3\\lib\\site-packages\\IPython\\core\\interactiveshell.py:2698: DtypeWarning: Columns (0,7,11,12,13,14,15,16,17,18,19,20,44,45,46,50) have mixed types.Specify dtype option on import or set low_memory=False.\n",
      "  interactivity=interactivity, compiler=compiler, result=result)\n"
     ]
    }
   ],
   "source": [
    "df = pd.read_csv('traffic_stops.csv',encoding = \"ISO-8859-1\")"
   ]
  },
  {
   "cell_type": "code",
   "execution_count": 19,
   "metadata": {},
   "outputs": [],
   "source": [
    "df.shape\n",
    "df.drop_duplicates(inplace=True)"
   ]
  },
  {
   "cell_type": "code",
   "execution_count": 20,
   "metadata": {},
   "outputs": [
    {
     "data": {
      "text/plain": [
       "Black             53294\n",
       "White             10704\n",
       "Hispanic           5415\n",
       "Unknown            2977\n",
       "Asian              1480\n",
       "Multiple            272\n",
       "Other                65\n",
       "race_ethnicity        1\n",
       "Name: race_ethnicity, dtype: int64"
      ]
     },
     "execution_count": 20,
     "metadata": {},
     "output_type": "execute_result"
    }
   ],
   "source": [
    "df['race_ethnicity'].value_counts()"
   ]
  },
  {
   "cell_type": "code",
   "execution_count": null,
   "metadata": {
    "collapsed": true
   },
   "outputs": [],
   "source": []
  }
 ],
 "metadata": {
  "kernelspec": {
   "display_name": "Python 3",
   "language": "python",
   "name": "python3"
  },
  "language_info": {
   "codemirror_mode": {
    "name": "ipython",
    "version": 3
   },
   "file_extension": ".py",
   "mimetype": "text/x-python",
   "name": "python",
   "nbconvert_exporter": "python",
   "pygments_lexer": "ipython3",
   "version": "3.6.3"
  }
 },
 "nbformat": 4,
 "nbformat_minor": 2
}
