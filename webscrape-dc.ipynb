{
 "cells": [
  {
   "cell_type": "code",
   "execution_count": 88,
   "metadata": {},
   "outputs": [
    {
     "name": "stdout",
     "output_type": "stream",
     "text": [
      "The autoreload extension is already loaded. To reload it, use:\n",
      "  %reload_ext autoreload\n"
     ]
    }
   ],
   "source": [
    "from bs4 import BeautifulSoup as bs\n",
    "from bs4 import Tag, NavigableString\n",
    "import re\n",
    "import requests as r\n",
    "import pandas as pd\n",
    "import numpy as np\n",
    "import datetime\n",
    "import csv\n",
    "import os\n",
    "import sys\n",
    "from selenium import webdriver\n",
    "import censusdata as cd\n",
    "import geopy\n",
    "import seaborn as sns\n",
    "\n",
    "pd.set_option('display.expand_frame_repr', False)\n",
    "pd.set_option('display.precision', 2)\n",
    "\n",
    "%load_ext autoreload\n",
    "%autoreload 2\n",
    "%matplotlib inline"
   ]
  },
  {
   "cell_type": "code",
   "execution_count": 89,
   "metadata": {},
   "outputs": [
    {
     "data": {
      "text/html": [
       "<div>\n",
       "<style scoped>\n",
       "    .dataframe tbody tr th:only-of-type {\n",
       "        vertical-align: middle;\n",
       "    }\n",
       "\n",
       "    .dataframe tbody tr th {\n",
       "        vertical-align: top;\n",
       "    }\n",
       "\n",
       "    .dataframe thead th {\n",
       "        text-align: right;\n",
       "    }\n",
       "</style>\n",
       "<table border=\"1\" class=\"dataframe\">\n",
       "  <thead>\n",
       "    <tr style=\"text-align: right;\">\n",
       "      <th></th>\n",
       "      <th>0</th>\n",
       "      <th>1</th>\n",
       "      <th>2</th>\n",
       "    </tr>\n",
       "  </thead>\n",
       "  <tbody>\n",
       "    <tr>\n",
       "      <th>279</th>\n",
       "      <td>B01001_001E</td>\n",
       "      <td>SEX BY AGE</td>\n",
       "      <td>Estimate!!Total</td>\n",
       "    </tr>\n",
       "  </tbody>\n",
       "</table>\n",
       "</div>"
      ],
      "text/plain": [
       "               0           1                2\n",
       "279  B01001_001E  SEX BY AGE  Estimate!!Total"
      ]
     },
     "execution_count": 89,
     "metadata": {},
     "output_type": "execute_result"
    }
   ],
   "source": [
    "df = pd.DataFrame(cd.search('acs1', 2018, 'concept', 'sex by age'))\n",
    "df[df[0]=='B01001_001E']"
   ]
  },
  {
   "cell_type": "code",
   "execution_count": 90,
   "metadata": {
    "collapsed": true
   },
   "outputs": [],
   "source": [
    "blk_males = ['B01001B_003E',\n",
    "'B01001B_004E',\n",
    "'B01001B_005E',\n",
    "'B01001B_006E',\n",
    "'B01001B_007E',\n",
    "'B01001B_008E',\n",
    "'B01001B_009E',\n",
    "'B01001B_010E',\n",
    "'B01001B_011E',\n",
    "'B01001B_012E',\n",
    "'B01001B_013E',\n",
    "'B01001B_014E',\n",
    "'B01001B_015E',\n",
    "'B01001B_016E']"
   ]
  },
  {
   "cell_type": "code",
   "execution_count": 91,
   "metadata": {
    "collapsed": true
   },
   "outputs": [],
   "source": [
    "df = df[(df[1].isin(['SEX BY AGE (SOME OTHER RACE ALONE)',\n",
    "'SEX BY AGE (ASIAN ALONE)',\n",
    "'SEX BY AGE (TWO OR MORE RACES)',\n",
    "'SEX BY AGE (AMERICAN INDIAN AND ALASKA NATIVE ALONE)',\n",
    "'SEX BY AGE (WHITE ALONE)',\n",
    "'SEX BY AGE (NATIVE HAWAIIAN AND OTHER PACIFIC ISLANDER ALONE)',\n",
    "'SEX BY AGE (HISPANIC OR LATINO)',\n",
    "'SEX BY AGE (BLACK OR AFRICAN AMERICAN ALONE)']))&(df[0].str.startswith('C'))]"
   ]
  },
  {
   "cell_type": "code",
   "execution_count": 92,
   "metadata": {
    "scrolled": true
   },
   "outputs": [
    {
     "data": {
      "text/plain": [
       "array(['Estimate!!Total', 'Estimate!!Total!!Male',\n",
       "       'Estimate!!Total!!Male!!Under 18 years',\n",
       "       'Estimate!!Total!!Male!!18 to 64 years',\n",
       "       'Estimate!!Total!!Male!!65 years and over',\n",
       "       'Estimate!!Total!!Female',\n",
       "       'Estimate!!Total!!Female!!Under 18 years',\n",
       "       'Estimate!!Total!!Female!!18 to 64 years',\n",
       "       'Estimate!!Total!!Female!!65 years and over', 'Estimate!!Total',\n",
       "       'Estimate!!Total!!Male', 'Estimate!!Total!!Male!!Under 18 years',\n",
       "       'Estimate!!Total!!Male!!18 to 64 years',\n",
       "       'Estimate!!Total!!Male!!65 years and over',\n",
       "       'Estimate!!Total!!Female',\n",
       "       'Estimate!!Total!!Female!!Under 18 years',\n",
       "       'Estimate!!Total!!Female!!18 to 64 years',\n",
       "       'Estimate!!Total!!Female!!65 years and over', 'Estimate!!Total',\n",
       "       'Estimate!!Total!!Male', 'Estimate!!Total!!Male!!Under 18 years',\n",
       "       'Estimate!!Total!!Male!!18 to 64 years',\n",
       "       'Estimate!!Total!!Male!!65 years and over',\n",
       "       'Estimate!!Total!!Female',\n",
       "       'Estimate!!Total!!Female!!Under 18 years',\n",
       "       'Estimate!!Total!!Female!!18 to 64 years',\n",
       "       'Estimate!!Total!!Female!!65 years and over', 'Estimate!!Total',\n",
       "       'Estimate!!Total!!Male', 'Estimate!!Total!!Male!!Under 18 years',\n",
       "       'Estimate!!Total!!Male!!18 to 64 years',\n",
       "       'Estimate!!Total!!Male!!65 years and over',\n",
       "       'Estimate!!Total!!Female',\n",
       "       'Estimate!!Total!!Female!!Under 18 years',\n",
       "       'Estimate!!Total!!Female!!18 to 64 years',\n",
       "       'Estimate!!Total!!Female!!65 years and over', 'Estimate!!Total',\n",
       "       'Estimate!!Total!!Male', 'Estimate!!Total!!Male!!Under 18 years',\n",
       "       'Estimate!!Total!!Male!!18 to 64 years',\n",
       "       'Estimate!!Total!!Male!!65 years and over',\n",
       "       'Estimate!!Total!!Female',\n",
       "       'Estimate!!Total!!Female!!Under 18 years',\n",
       "       'Estimate!!Total!!Female!!18 to 64 years',\n",
       "       'Estimate!!Total!!Female!!65 years and over', 'Estimate!!Total',\n",
       "       'Estimate!!Total!!Male', 'Estimate!!Total!!Male!!Under 18 years',\n",
       "       'Estimate!!Total!!Male!!18 to 64 years',\n",
       "       'Estimate!!Total!!Male!!65 years and over',\n",
       "       'Estimate!!Total!!Female',\n",
       "       'Estimate!!Total!!Female!!Under 18 years',\n",
       "       'Estimate!!Total!!Female!!18 to 64 years',\n",
       "       'Estimate!!Total!!Female!!65 years and over', 'Estimate!!Total',\n",
       "       'Estimate!!Total!!Male', 'Estimate!!Total!!Male!!Under 18 years',\n",
       "       'Estimate!!Total!!Male!!18 to 64 years',\n",
       "       'Estimate!!Total!!Male!!65 years and over',\n",
       "       'Estimate!!Total!!Female',\n",
       "       'Estimate!!Total!!Female!!Under 18 years',\n",
       "       'Estimate!!Total!!Female!!18 to 64 years',\n",
       "       'Estimate!!Total!!Female!!65 years and over', 'Estimate!!Total',\n",
       "       'Estimate!!Total!!Male', 'Estimate!!Total!!Male!!Under 18 years',\n",
       "       'Estimate!!Total!!Male!!18 to 64 years',\n",
       "       'Estimate!!Total!!Male!!65 years and over',\n",
       "       'Estimate!!Total!!Female',\n",
       "       'Estimate!!Total!!Female!!Under 18 years',\n",
       "       'Estimate!!Total!!Female!!18 to 64 years',\n",
       "       'Estimate!!Total!!Female!!65 years and over'], dtype=object)"
      ]
     },
     "execution_count": 92,
     "metadata": {},
     "output_type": "execute_result"
    }
   ],
   "source": [
    "df[2].values"
   ]
  },
  {
   "cell_type": "code",
   "execution_count": 93,
   "metadata": {
    "scrolled": true
   },
   "outputs": [
    {
     "data": {
      "text/plain": [
       "{'District of Columbia (Central) PUMA, District of Columbia': censusgeo((('state', '11'), ('public use microdata area', '00105'))),\n",
       " 'District of Columbia (East) PUMA, District of Columbia': censusgeo((('state', '11'), ('public use microdata area', '00104'))),\n",
       " 'District of Columbia (North) PUMA, District of Columbia': censusgeo((('state', '11'), ('public use microdata area', '00102'))),\n",
       " 'District of Columbia (Northeast) PUMA, District of Columbia': censusgeo((('state', '11'), ('public use microdata area', '00103'))),\n",
       " 'District of Columbia (West) PUMA, District of Columbia': censusgeo((('state', '11'), ('public use microdata area', '00101')))}"
      ]
     },
     "execution_count": 93,
     "metadata": {},
     "output_type": "execute_result"
    }
   ],
   "source": [
    "cd.geographies(cd.censusgeo([('state','11'),('public use microdata area','*')]),'acs1',2018)"
   ]
  },
  {
   "cell_type": "code",
   "execution_count": 94,
   "metadata": {
    "scrolled": true
   },
   "outputs": [
    {
     "data": {
      "text/html": [
       "<div>\n",
       "<style scoped>\n",
       "    .dataframe tbody tr th:only-of-type {\n",
       "        vertical-align: middle;\n",
       "    }\n",
       "\n",
       "    .dataframe tbody tr th {\n",
       "        vertical-align: top;\n",
       "    }\n",
       "\n",
       "    .dataframe thead th {\n",
       "        text-align: right;\n",
       "    }\n",
       "</style>\n",
       "<table border=\"1\" class=\"dataframe\">\n",
       "  <thead>\n",
       "    <tr style=\"text-align: right;\">\n",
       "      <th></th>\n",
       "      <th>0</th>\n",
       "      <th>1</th>\n",
       "      <th>2</th>\n",
       "    </tr>\n",
       "  </thead>\n",
       "  <tbody>\n",
       "    <tr>\n",
       "      <th>3814</th>\n",
       "      <td>C01001A_001E</td>\n",
       "      <td>SEX BY AGE (WHITE ALONE)</td>\n",
       "      <td>Estimate!!Total</td>\n",
       "    </tr>\n",
       "    <tr>\n",
       "      <th>3815</th>\n",
       "      <td>C01001A_002E</td>\n",
       "      <td>SEX BY AGE (WHITE ALONE)</td>\n",
       "      <td>Estimate!!Total!!Male</td>\n",
       "    </tr>\n",
       "    <tr>\n",
       "      <th>3816</th>\n",
       "      <td>C01001A_003E</td>\n",
       "      <td>SEX BY AGE (WHITE ALONE)</td>\n",
       "      <td>Estimate!!Total!!Male!!Under 18 years</td>\n",
       "    </tr>\n",
       "    <tr>\n",
       "      <th>3817</th>\n",
       "      <td>C01001A_004E</td>\n",
       "      <td>SEX BY AGE (WHITE ALONE)</td>\n",
       "      <td>Estimate!!Total!!Male!!18 to 64 years</td>\n",
       "    </tr>\n",
       "    <tr>\n",
       "      <th>3818</th>\n",
       "      <td>C01001A_005E</td>\n",
       "      <td>SEX BY AGE (WHITE ALONE)</td>\n",
       "      <td>Estimate!!Total!!Male!!65 years and over</td>\n",
       "    </tr>\n",
       "  </tbody>\n",
       "</table>\n",
       "</div>"
      ],
      "text/plain": [
       "                 0                         1                                         2\n",
       "3814  C01001A_001E  SEX BY AGE (WHITE ALONE)                           Estimate!!Total\n",
       "3815  C01001A_002E  SEX BY AGE (WHITE ALONE)                     Estimate!!Total!!Male\n",
       "3816  C01001A_003E  SEX BY AGE (WHITE ALONE)     Estimate!!Total!!Male!!Under 18 years\n",
       "3817  C01001A_004E  SEX BY AGE (WHITE ALONE)     Estimate!!Total!!Male!!18 to 64 years\n",
       "3818  C01001A_005E  SEX BY AGE (WHITE ALONE)  Estimate!!Total!!Male!!65 years and over"
      ]
     },
     "execution_count": 94,
     "metadata": {},
     "output_type": "execute_result"
    }
   ],
   "source": [
    "df.head()"
   ]
  },
  {
   "cell_type": "code",
   "execution_count": 95,
   "metadata": {
    "scrolled": true
   },
   "outputs": [
    {
     "data": {
      "text/html": [
       "<div>\n",
       "<style scoped>\n",
       "    .dataframe tbody tr th:only-of-type {\n",
       "        vertical-align: middle;\n",
       "    }\n",
       "\n",
       "    .dataframe tbody tr th {\n",
       "        vertical-align: top;\n",
       "    }\n",
       "\n",
       "    .dataframe thead th {\n",
       "        text-align: right;\n",
       "    }\n",
       "</style>\n",
       "<table border=\"1\" class=\"dataframe\">\n",
       "  <thead>\n",
       "    <tr style=\"text-align: right;\">\n",
       "      <th></th>\n",
       "      <th>B01001_001E</th>\n",
       "      <th>C01001A_001E</th>\n",
       "      <th>C01001A_002E</th>\n",
       "      <th>C01001A_003E</th>\n",
       "      <th>C01001A_004E</th>\n",
       "      <th>C01001A_005E</th>\n",
       "      <th>C01001A_006E</th>\n",
       "      <th>C01001A_007E</th>\n",
       "      <th>C01001A_008E</th>\n",
       "      <th>C01001A_009E</th>\n",
       "      <th>...</th>\n",
       "      <th>C01001G_009E</th>\n",
       "      <th>C01001I_001E</th>\n",
       "      <th>C01001I_002E</th>\n",
       "      <th>C01001I_003E</th>\n",
       "      <th>C01001I_004E</th>\n",
       "      <th>C01001I_005E</th>\n",
       "      <th>C01001I_006E</th>\n",
       "      <th>C01001I_007E</th>\n",
       "      <th>C01001I_008E</th>\n",
       "      <th>C01001I_009E</th>\n",
       "    </tr>\n",
       "  </thead>\n",
       "  <tbody>\n",
       "    <tr>\n",
       "      <th>District of Columbia (West) PUMA, District of Columbia: Summary level: 795, state:11&gt; public use microdata area:00101</th>\n",
       "      <td>112727</td>\n",
       "      <td>88593</td>\n",
       "      <td>42591</td>\n",
       "      <td>7691</td>\n",
       "      <td>27195</td>\n",
       "      <td>7705</td>\n",
       "      <td>46002</td>\n",
       "      <td>7299</td>\n",
       "      <td>29004</td>\n",
       "      <td>9699</td>\n",
       "      <td>...</td>\n",
       "      <td>398</td>\n",
       "      <td>16048</td>\n",
       "      <td>7468</td>\n",
       "      <td>2576</td>\n",
       "      <td>4608</td>\n",
       "      <td>284</td>\n",
       "      <td>8580</td>\n",
       "      <td>1240</td>\n",
       "      <td>6572</td>\n",
       "      <td>768</td>\n",
       "    </tr>\n",
       "    <tr>\n",
       "      <th>District of Columbia (North) PUMA, District of Columbia: Summary level: 795, state:11&gt; public use microdata area:00102</th>\n",
       "      <td>135705</td>\n",
       "      <td>45736</td>\n",
       "      <td>23047</td>\n",
       "      <td>3205</td>\n",
       "      <td>18318</td>\n",
       "      <td>1524</td>\n",
       "      <td>22689</td>\n",
       "      <td>2784</td>\n",
       "      <td>17879</td>\n",
       "      <td>2026</td>\n",
       "      <td>...</td>\n",
       "      <td>287</td>\n",
       "      <td>30614</td>\n",
       "      <td>15419</td>\n",
       "      <td>5156</td>\n",
       "      <td>9836</td>\n",
       "      <td>427</td>\n",
       "      <td>15195</td>\n",
       "      <td>4194</td>\n",
       "      <td>9848</td>\n",
       "      <td>1153</td>\n",
       "    </tr>\n",
       "    <tr>\n",
       "      <th>District of Columbia (Central) PUMA, District of Columbia: Summary level: 795, state:11&gt; public use microdata area:00105</th>\n",
       "      <td>160725</td>\n",
       "      <td>101795</td>\n",
       "      <td>52322</td>\n",
       "      <td>2933</td>\n",
       "      <td>46375</td>\n",
       "      <td>3014</td>\n",
       "      <td>49473</td>\n",
       "      <td>2053</td>\n",
       "      <td>43531</td>\n",
       "      <td>3889</td>\n",
       "      <td>...</td>\n",
       "      <td>149</td>\n",
       "      <td>16350</td>\n",
       "      <td>9526</td>\n",
       "      <td>723</td>\n",
       "      <td>8139</td>\n",
       "      <td>664</td>\n",
       "      <td>6824</td>\n",
       "      <td>911</td>\n",
       "      <td>5205</td>\n",
       "      <td>708</td>\n",
       "    </tr>\n",
       "    <tr>\n",
       "      <th>District of Columbia (Northeast) PUMA, District of Columbia: Summary level: 795, state:11&gt; public use microdata area:00103</th>\n",
       "      <td>126312</td>\n",
       "      <td>54955</td>\n",
       "      <td>28012</td>\n",
       "      <td>5269</td>\n",
       "      <td>20562</td>\n",
       "      <td>2181</td>\n",
       "      <td>26943</td>\n",
       "      <td>4896</td>\n",
       "      <td>20508</td>\n",
       "      <td>1539</td>\n",
       "      <td>...</td>\n",
       "      <td>190</td>\n",
       "      <td>11724</td>\n",
       "      <td>6426</td>\n",
       "      <td>2339</td>\n",
       "      <td>4087</td>\n",
       "      <td>0</td>\n",
       "      <td>5298</td>\n",
       "      <td>2464</td>\n",
       "      <td>2755</td>\n",
       "      <td>79</td>\n",
       "    </tr>\n",
       "    <tr>\n",
       "      <th>District of Columbia (East) PUMA, District of Columbia: Summary level: 795, state:11&gt; public use microdata area:00104</th>\n",
       "      <td>166986</td>\n",
       "      <td>5668</td>\n",
       "      <td>3410</td>\n",
       "      <td>689</td>\n",
       "      <td>2357</td>\n",
       "      <td>364</td>\n",
       "      <td>2258</td>\n",
       "      <td>290</td>\n",
       "      <td>1545</td>\n",
       "      <td>423</td>\n",
       "      <td>...</td>\n",
       "      <td>73</td>\n",
       "      <td>4513</td>\n",
       "      <td>2301</td>\n",
       "      <td>1116</td>\n",
       "      <td>775</td>\n",
       "      <td>410</td>\n",
       "      <td>2212</td>\n",
       "      <td>1150</td>\n",
       "      <td>919</td>\n",
       "      <td>143</td>\n",
       "    </tr>\n",
       "  </tbody>\n",
       "</table>\n",
       "<p>5 rows × 73 columns</p>\n",
       "</div>"
      ],
      "text/plain": [
       "                                                    B01001_001E  C01001A_001E  C01001A_002E  C01001A_003E  C01001A_004E  C01001A_005E  C01001A_006E  C01001A_007E  C01001A_008E  C01001A_009E  ...  C01001G_009E  C01001I_001E  C01001I_002E  C01001I_003E  C01001I_004E  C01001I_005E  C01001I_006E  C01001I_007E  C01001I_008E C01001I_009E\n",
       "District of Columbia (West) PUMA, District of C...       112727         88593         42591          7691         27195          7705         46002          7299         29004          9699  ...           398         16048          7468          2576          4608           284          8580          1240          6572          768\n",
       "District of Columbia (North) PUMA, District of ...       135705         45736         23047          3205         18318          1524         22689          2784         17879          2026  ...           287         30614         15419          5156          9836           427         15195          4194          9848         1153\n",
       "District of Columbia (Central) PUMA, District o...       160725        101795         52322          2933         46375          3014         49473          2053         43531          3889  ...           149         16350          9526           723          8139           664          6824           911          5205          708\n",
       "District of Columbia (Northeast) PUMA, District...       126312         54955         28012          5269         20562          2181         26943          4896         20508          1539  ...           190         11724          6426          2339          4087             0          5298          2464          2755           79\n",
       "District of Columbia (East) PUMA, District of C...       166986          5668          3410           689          2357           364          2258           290          1545           423  ...            73          4513          2301          1116           775           410          2212          1150           919          143\n",
       "\n",
       "[5 rows x 73 columns]"
      ]
     },
     "execution_count": 95,
     "metadata": {},
     "output_type": "execute_result"
    }
   ],
   "source": [
    "census = cd.download('acs1', 2018,\n",
    "                            cd.censusgeo([('state','11'),('public use microdata area','*')]),['B01001_001E']+list(df[0].values))\n",
    "census"
   ]
  },
  {
   "cell_type": "code",
   "execution_count": 96,
   "metadata": {
    "scrolled": true
   },
   "outputs": [
    {
     "name": "stderr",
     "output_type": "stream",
     "text": [
      "C:\\Users\\Noah\\Anaconda3\\lib\\site-packages\\pandas\\core\\strings.py:1954: UserWarning: This pattern has match groups. To actually get the groups, use str.extract.\n",
      "  return func(self, *args, **kwargs)\n"
     ]
    }
   ],
   "source": [
    "cols = ['SEX BY AGEEstimate!!Total']+ list(df[1].values + df[2].values)\n",
    "census.columns = cols\n",
    "census = census.reset_index()\n",
    "census['index'] = census['index'].astype(str)\n",
    "census['puma'] = np.where(census['index'].str.contains('(East)'),1,0)\n"
   ]
  },
  {
   "cell_type": "code",
   "execution_count": 97,
   "metadata": {
    "collapsed": true,
    "scrolled": true
   },
   "outputs": [],
   "source": [
    "census = census[cols+['puma']].groupby(['puma']).sum().reset_index()"
   ]
  },
  {
   "cell_type": "code",
   "execution_count": 98,
   "metadata": {
    "collapsed": true
   },
   "outputs": [],
   "source": [
    "def check_save(file_path):\n",
    "    path = ('data/{}'.format(file_path))\n",
    "    if os.path.exists(path):\n",
    "        os.remove(path)\n",
    "    else:\n",
    "        print(\"{} does not exist\".format(file_path))\n",
    "    \n",
    "\n",
    "def write_out(file_path, url):\n",
    "    path = ('data/{}'.format(file_path))\n",
    "    print(file_path)\n",
    "    with open(path, mode='w', newline='') as file:\n",
    "        file_writer = csv.writer(file, delimiter=',')\n",
    "        print(url)\n",
    "        with r.get(url, verify=False, stream=True) as res:\n",
    "            lines = (line.decode('utf-8',errors='ignore').replace('\\0','') for line in res.iter_lines())\n",
    "            for row in csv.reader(lines):\n",
    "                print(row)\n",
    "                file_writer.writerow(row)\n",
    "\n",
    "                \n",
    "                \n",
    "def create_stuff(file_path,url):\n",
    "    check_save(file_path)\n",
    "    write_out(file_path,url)\n",
    "    \n",
    "def stack_csvs(my_url):\n",
    "    with open(path, mode='w', newline='') as file:\n",
    "        file_writer = csv.writer(file, delimiter=',')\n",
    "        print(url)\n",
    "        with r.get(url, verify=False, stream=True) as res:\n",
    "            lines = (line.decode('utf-8',errors='ignore').replace('\\0','') for line in res.iter_lines())\n",
    "            for row in csv.reader(lines):\n",
    "                print(row)\n",
    "                file_writer.writerow(row)"
   ]
  },
  {
   "cell_type": "code",
   "execution_count": 99,
   "metadata": {},
   "outputs": [
    {
     "name": "stdout",
     "output_type": "stream",
     "text": [
      "https://mpdc.dc.gov/sites/default/files/dc/sites/mpdc/publication/attachments/Stop%20Data_09092019.csv\n",
      "https://mpdc.dc.gov/sites/default/files/dc/sites/mpdc/publication/attachments/Stop%20Data_1%20of%203.csv\n",
      "https://mpdc.dc.gov/sites/default/files/dc/sites/mpdc/publication/attachments/Stop%20Data_2%20of%203.csv\n",
      "https://mpdc.dc.gov/sites/default/files/dc/sites/mpdc/publication/attachments/Stop%20Data_3%20of%203.csv\n"
     ]
    }
   ],
   "source": [
    "#Downloads the .csv file of all mobility data from the google mobility site\n",
    "#goog_files = os.getcwd()+'/data'\n",
    "\n",
    "\n",
    "output = open('traffic_stops.csv', 'wb')\n",
    "lst = []\n",
    "        \n",
    "my_url = ['https://mpdc.dc.gov/node/1429041','https://mpdc.dc.gov/node/1464816']\n",
    "for url in my_url:\n",
    "    html = r.get(url)\n",
    "    soup = bs(html.content,'lxml')\n",
    "    current_link = ''\n",
    "    for l in soup.find_all('a'):\n",
    "        current_link = l.get('href')\n",
    "        if current_link != None:\n",
    "            #print(current_link)\n",
    "            if current_link.find('csv')> 0:\n",
    "                print(current_link)\n",
    "                xlsx_file = r.get(current_link)\n",
    "                lst.extend(xlsx_file)\n",
    "                \n",
    "            '''        myfile = r.get(current_link)\n",
    "                open('{}/{}'.format(goog_files, current_link.rsplit('/', 1)[1].rsplit('.csv',1)[0] + '.csv') ,'wb').write(myfile.content)\n",
    "                break'''\n",
    "for x in lst:\n",
    "    output.write(x)\n",
    "output.close()\n"
   ]
  },
  {
   "cell_type": "code",
   "execution_count": 100,
   "metadata": {},
   "outputs": [
    {
     "name": "stderr",
     "output_type": "stream",
     "text": [
      "C:\\Users\\Noah\\Anaconda3\\lib\\site-packages\\IPython\\core\\interactiveshell.py:2698: DtypeWarning: Columns (0,7,11,12,13,14,15,16,17,18,19,20,44,45,46,50) have mixed types.Specify dtype option on import or set low_memory=False.\n",
      "  interactivity=interactivity, compiler=compiler, result=result)\n"
     ]
    }
   ],
   "source": [
    "df = pd.read_csv('traffic_stops.csv',encoding = \"ISO-8859-1\")"
   ]
  },
  {
   "cell_type": "code",
   "execution_count": 101,
   "metadata": {},
   "outputs": [
    {
     "name": "stdout",
     "output_type": "stream",
     "text": [
      "(74483, 52)\n",
      "(74481, 52)\n"
     ]
    }
   ],
   "source": [
    "print(df.shape)\n",
    "df.drop_duplicates(inplace=True)\n",
    "print(df.shape)"
   ]
  },
  {
   "cell_type": "code",
   "execution_count": 102,
   "metadata": {
    "collapsed": true
   },
   "outputs": [],
   "source": [
    "df['stop_date'] = pd.to_datetime(df['stop_date'], errors='coerce')"
   ]
  },
  {
   "cell_type": "code",
   "execution_count": 103,
   "metadata": {},
   "outputs": [
    {
     "name": "stdout",
     "output_type": "stream",
     "text": [
      "2019-07-14 00:00:00 2019-12-31 00:00:00\n"
     ]
    }
   ],
   "source": [
    "print(df.stop_date.min(), df.stop_date.max())"
   ]
  },
  {
   "cell_type": "code",
   "execution_count": 105,
   "metadata": {},
   "outputs": [
    {
     "name": "stdout",
     "output_type": "stream",
     "text": [
      "(74481, 53)\n"
     ]
    }
   ],
   "source": [
    "print(df.shape)\n"
   ]
  },
  {
   "cell_type": "code",
   "execution_count": 106,
   "metadata": {
    "collapsed": true
   },
   "outputs": [],
   "source": [
    "df['puma'] = np.where((df['stop_district']=='7D')|(df['stop_district']=='6D'),1,0)"
   ]
  },
  {
   "cell_type": "code",
   "execution_count": 107,
   "metadata": {
    "collapsed": true
   },
   "outputs": [],
   "source": [
    "df['age'] = np.where(df['age']=='Juvenile','17',df['age'])\n",
    "df['age'] = pd.to_numeric(df['age'],errors='coerce')"
   ]
  },
  {
   "cell_type": "code",
   "execution_count": 110,
   "metadata": {
    "collapsed": true
   },
   "outputs": [],
   "source": [
    "data = df.groupby(['puma','gender','race_ethnicity'])['age'].agg(['mean','count']).reset_index()\n",
    "data = data[(data['gender']=='Female')|(data['gender']=='Male')]\n",
    "data_age = df.groupby(['puma','gender','race_ethnicity','age_range'])['age'].agg(['count']).reset_index()\n",
    "data_age = data_age[((data_age['gender']=='Female')|(data_age['gender']=='Male'))&(data_age['age_range']!='')]"
   ]
  },
  {
   "cell_type": "code",
   "execution_count": 113,
   "metadata": {
    "collapsed": true
   },
   "outputs": [],
   "source": [
    "census_mlt = census.melt(id_vars=['puma'])"
   ]
  },
  {
   "cell_type": "code",
   "execution_count": 115,
   "metadata": {
    "collapsed": true
   },
   "outputs": [],
   "source": [
    "census_mlt['gender'] = np.where(census_mlt['variable'].str.contains('Male'),'Male','')\n",
    "census_mlt['gender'] = np.where(census_mlt['variable'].str.contains('Female'),'Female',census_mlt['gender'])\n"
   ]
  },
  {
   "cell_type": "code",
   "execution_count": 116,
   "metadata": {
    "collapsed": true
   },
   "outputs": [],
   "source": [
    "def categorize(dic, column):\n",
    "    census_mlt[column] = '' \n",
    "    for x in dic.keys():\n",
    "         census_mlt[column] = np.where(census_mlt['variable'].str.contains(x),dic[x],census_mlt[column])\n",
    "    return census_mlt[column]\n",
    "    "
   ]
  },
  {
   "cell_type": "code",
   "execution_count": 118,
   "metadata": {
    "collapsed": true
   },
   "outputs": [],
   "source": [
    "conditions = {\n",
    "    '18 to 64 years':'18-64',\n",
    "    'Under 18 years':'<18',\n",
    "    '65 years and over':'>64'\n",
    "    }\n",
    "census_mlt['metric'] = categorize(conditions,'metric')    "
   ]
  },
  {
   "cell_type": "code",
   "execution_count": 119,
   "metadata": {},
   "outputs": [
    {
     "name": "stderr",
     "output_type": "stream",
     "text": [
      "C:\\Users\\Noah\\Anaconda3\\lib\\site-packages\\pandas\\core\\strings.py:1954: UserWarning: This pattern has match groups. To actually get the groups, use str.extract.\n",
      "  return func(self, *args, **kwargs)\n"
     ]
    }
   ],
   "source": [
    "conditions = {\n",
    "    'SEX BY AGEE':'total',\n",
    "'(WHITE ALONE)':'White',\n",
    "'(BLACK OR AFRICAN AMERICAN ALONE)':'Black',\n",
    "'(ASIAN ALONE)':'Asian',\n",
    "'(SOME OTHER RACE ALONE)':'Other',\n",
    "'(TWO OR MORE RACES)':'Multiple',\n",
    "'(HISPANIC OR LATINO)':'Hispanic',\n",
    "    }\n",
    "census_mlt['race_ethnicity'] = categorize(conditions,'race_ethnicity')    "
   ]
  },
  {
   "cell_type": "code",
   "execution_count": 128,
   "metadata": {},
   "outputs": [],
   "source": [
    "census_mlt = census_mlt.replace({'':'total'})"
   ]
  },
  {
   "cell_type": "code",
   "execution_count": 122,
   "metadata": {
    "collapsed": true
   },
   "outputs": [],
   "source": [
    "census_mlt_race = census_mlt[(census_mlt['gender']=='total')&(census_mlt['metric']=='total')&(census_mlt['race_ethnicity']!='total')].copy()\n",
    "census_mlt_gen = census_mlt[(census_mlt['gender']!='total')&(census_mlt['metric']=='total')&(census_mlt['race_ethnicity']!='total')].copy()\n",
    "census_mlt_gen_age = census_mlt[(census_mlt['metric']!='total')].copy()"
   ]
  },
  {
   "cell_type": "code",
   "execution_count": 123,
   "metadata": {},
   "outputs": [
    {
     "name": "stdout",
     "output_type": "stream",
     "text": [
      "   puma                   variable     value gender metric race_ethnicity\n",
      "0     0  SEX BY AGEEstimate!!Total  535469.0  total  total          total\n",
      "1     1  SEX BY AGEEstimate!!Total  166986.0  total  total          total\n",
      "puma\n",
      "0    592541.0\n",
      "1    168431.0\n",
      "Name: value, dtype: float64\n",
      "puma\n",
      "0    592541.0\n",
      "1    168431.0\n",
      "Name: value, dtype: float64\n",
      "puma\n",
      "0    592541.0\n",
      "1    168431.0\n",
      "Name: value, dtype: float64\n"
     ]
    }
   ],
   "source": [
    "print(census_mlt.iloc[0:2])\n",
    "print(census_mlt_race.groupby(['puma'])['value'].sum())\n",
    "print(census_mlt_gen.groupby(['puma'])['value'].sum())\n",
    "print(census_mlt_gen_age\n",
    "      .groupby(['puma'])['value'].sum())"
   ]
  },
  {
   "cell_type": "code",
   "execution_count": 124,
   "metadata": {},
   "outputs": [
    {
     "data": {
      "text/html": [
       "<div>\n",
       "<style scoped>\n",
       "    .dataframe tbody tr th:only-of-type {\n",
       "        vertical-align: middle;\n",
       "    }\n",
       "\n",
       "    .dataframe tbody tr th {\n",
       "        vertical-align: top;\n",
       "    }\n",
       "\n",
       "    .dataframe thead th {\n",
       "        text-align: right;\n",
       "    }\n",
       "</style>\n",
       "<table border=\"1\" class=\"dataframe\">\n",
       "  <thead>\n",
       "    <tr style=\"text-align: right;\">\n",
       "      <th></th>\n",
       "      <th>puma</th>\n",
       "      <th>gender</th>\n",
       "      <th>race_ethnicity</th>\n",
       "      <th>mean</th>\n",
       "      <th>count</th>\n",
       "    </tr>\n",
       "  </thead>\n",
       "  <tbody>\n",
       "    <tr>\n",
       "      <th>0</th>\n",
       "      <td>0</td>\n",
       "      <td>Female</td>\n",
       "      <td>Asian</td>\n",
       "      <td>39.14</td>\n",
       "      <td>316</td>\n",
       "    </tr>\n",
       "    <tr>\n",
       "      <th>1</th>\n",
       "      <td>0</td>\n",
       "      <td>Female</td>\n",
       "      <td>Black</td>\n",
       "      <td>36.12</td>\n",
       "      <td>7838</td>\n",
       "    </tr>\n",
       "    <tr>\n",
       "      <th>2</th>\n",
       "      <td>0</td>\n",
       "      <td>Female</td>\n",
       "      <td>Hispanic</td>\n",
       "      <td>35.47</td>\n",
       "      <td>886</td>\n",
       "    </tr>\n",
       "    <tr>\n",
       "      <th>3</th>\n",
       "      <td>0</td>\n",
       "      <td>Female</td>\n",
       "      <td>Multiple</td>\n",
       "      <td>38.89</td>\n",
       "      <td>47</td>\n",
       "    </tr>\n",
       "    <tr>\n",
       "      <th>4</th>\n",
       "      <td>0</td>\n",
       "      <td>Female</td>\n",
       "      <td>Other</td>\n",
       "      <td>34.62</td>\n",
       "      <td>8</td>\n",
       "    </tr>\n",
       "  </tbody>\n",
       "</table>\n",
       "</div>"
      ],
      "text/plain": [
       "   puma  gender race_ethnicity   mean  count\n",
       "0     0  Female          Asian  39.14    316\n",
       "1     0  Female          Black  36.12   7838\n",
       "2     0  Female       Hispanic  35.47    886\n",
       "3     0  Female       Multiple  38.89     47\n",
       "4     0  Female          Other  34.62      8"
      ]
     },
     "execution_count": 124,
     "metadata": {},
     "output_type": "execute_result"
    }
   ],
   "source": [
    "data.head()"
   ]
  },
  {
   "cell_type": "code",
   "execution_count": 125,
   "metadata": {},
   "outputs": [
    {
     "data": {
      "text/html": [
       "<div>\n",
       "<style scoped>\n",
       "    .dataframe tbody tr th:only-of-type {\n",
       "        vertical-align: middle;\n",
       "    }\n",
       "\n",
       "    .dataframe tbody tr th {\n",
       "        vertical-align: top;\n",
       "    }\n",
       "\n",
       "    .dataframe thead th {\n",
       "        text-align: right;\n",
       "    }\n",
       "</style>\n",
       "<table border=\"1\" class=\"dataframe\">\n",
       "  <thead>\n",
       "    <tr style=\"text-align: right;\">\n",
       "      <th></th>\n",
       "      <th>puma</th>\n",
       "      <th>gender</th>\n",
       "      <th>race_ethnicity</th>\n",
       "      <th>mean</th>\n",
       "      <th>count</th>\n",
       "      <th>pct</th>\n",
       "      <th>var</th>\n",
       "      <th>variable</th>\n",
       "      <th>value</th>\n",
       "      <th>metric</th>\n",
       "    </tr>\n",
       "  </thead>\n",
       "  <tbody>\n",
       "    <tr>\n",
       "      <th>0</th>\n",
       "      <td>0</td>\n",
       "      <td>Female</td>\n",
       "      <td>Asian</td>\n",
       "      <td>39.14</td>\n",
       "      <td>316.0</td>\n",
       "      <td>0.48</td>\n",
       "      <td>traffic stops</td>\n",
       "      <td>NaN</td>\n",
       "      <td>NaN</td>\n",
       "      <td>NaN</td>\n",
       "    </tr>\n",
       "    <tr>\n",
       "      <th>1</th>\n",
       "      <td>0</td>\n",
       "      <td>Female</td>\n",
       "      <td>Black</td>\n",
       "      <td>36.12</td>\n",
       "      <td>7838.0</td>\n",
       "      <td>11.82</td>\n",
       "      <td>traffic stops</td>\n",
       "      <td>NaN</td>\n",
       "      <td>NaN</td>\n",
       "      <td>NaN</td>\n",
       "    </tr>\n",
       "    <tr>\n",
       "      <th>2</th>\n",
       "      <td>0</td>\n",
       "      <td>Female</td>\n",
       "      <td>Hispanic</td>\n",
       "      <td>35.47</td>\n",
       "      <td>886.0</td>\n",
       "      <td>1.34</td>\n",
       "      <td>traffic stops</td>\n",
       "      <td>NaN</td>\n",
       "      <td>NaN</td>\n",
       "      <td>NaN</td>\n",
       "    </tr>\n",
       "    <tr>\n",
       "      <th>3</th>\n",
       "      <td>0</td>\n",
       "      <td>Female</td>\n",
       "      <td>Multiple</td>\n",
       "      <td>38.89</td>\n",
       "      <td>47.0</td>\n",
       "      <td>0.07</td>\n",
       "      <td>traffic stops</td>\n",
       "      <td>NaN</td>\n",
       "      <td>NaN</td>\n",
       "      <td>NaN</td>\n",
       "    </tr>\n",
       "    <tr>\n",
       "      <th>4</th>\n",
       "      <td>0</td>\n",
       "      <td>Female</td>\n",
       "      <td>Other</td>\n",
       "      <td>34.62</td>\n",
       "      <td>8.0</td>\n",
       "      <td>0.01</td>\n",
       "      <td>traffic stops</td>\n",
       "      <td>NaN</td>\n",
       "      <td>NaN</td>\n",
       "      <td>NaN</td>\n",
       "    </tr>\n",
       "  </tbody>\n",
       "</table>\n",
       "</div>"
      ],
      "text/plain": [
       "   puma  gender race_ethnicity   mean   count    pct            var variable  value metric\n",
       "0     0  Female          Asian  39.14   316.0   0.48  traffic stops      NaN    NaN    NaN\n",
       "1     0  Female          Black  36.12  7838.0  11.82  traffic stops      NaN    NaN    NaN\n",
       "2     0  Female       Hispanic  35.47   886.0   1.34  traffic stops      NaN    NaN    NaN\n",
       "3     0  Female       Multiple  38.89    47.0   0.07  traffic stops      NaN    NaN    NaN\n",
       "4     0  Female          Other  34.62     8.0   0.01  traffic stops      NaN    NaN    NaN"
      ]
     },
     "execution_count": 125,
     "metadata": {},
     "output_type": "execute_result"
    }
   ],
   "source": [
    "census_mlt_gen['pct'] = np.round((census_mlt_gen['value'] / census_mlt_gen['value'].sum())*100,2)\n",
    "census_mlt_gen['var'] = 'population'\n",
    "data['pct'] = np.round((data['count'] / data['count'].sum())*100,2)\n",
    "data['var'] = 'traffic stops'\n",
    "grp = pd.concat([data,census_mlt_gen],axis=0)\n",
    "\n",
    "grp.head()"
   ]
  },
  {
   "cell_type": "code",
   "execution_count": 126,
   "metadata": {},
   "outputs": [
    {
     "data": {
      "text/plain": [
       "<seaborn.axisgrid.FacetGrid at 0x2058c71c518>"
      ]
     },
     "execution_count": 126,
     "metadata": {},
     "output_type": "execute_result"
    },
    {
     "data": {
      "image/png": "[encoded data removed]",
      "text/plain": [
       "<Figure size 815.5x360 with 2 Axes>"
      ]
     },
     "metadata": {},
     "output_type": "display_data"
    }
   ],
   "source": [
    "g = sns.catplot(x='race_ethnicity',y='pct',hue='var',col='gender',data=grp[grp['puma']==1],kind='bar',order=['White','Black','Hispanic','Asian','Multiple','Other'],palette=sns.color_palette(['red', 'forestgreen']))\n",
    "g.set_titles('Police Districts 6 & 7\\n{col_name}')\n",
    "g.set(ylim=(0, 35))"
   ]
  },
  {
   "cell_type": "code",
   "execution_count": 127,
   "metadata": {},
   "outputs": [
    {
     "data": {
      "text/plain": [
       "<seaborn.axisgrid.FacetGrid at 0x20581b4a080>"
      ]
     },
     "execution_count": 127,
     "metadata": {},
     "output_type": "execute_result"
    },
    {
     "data": {
      "image/png": "[encoded data removed]",
      "text/plain": [
       "<Figure size 815.5x360 with 2 Axes>"
      ]
     },
     "metadata": {},
     "output_type": "display_data"
    }
   ],
   "source": [
    "g= sns.catplot(x='race_ethnicity',y='pct',hue='var',col='gender',data=grp[grp['puma']==0],kind='bar',order=['White','Black','Hispanic','Asian','Multiple','Other'],palette=sns.color_palette(['red', 'forestgreen']))\n",
    "g.set_titles('Police Districts 1-5 \\n{col_name}')\n",
    "g.set(ylim=(0, 35))"
   ]
  },
  {
   "cell_type": "markdown",
   "metadata": {},
   "source": [
    "# Reasons for Stops"
   ]
  },
  {
   "cell_type": "code",
   "execution_count": 41,
   "metadata": {
    "scrolled": true
   },
   "outputs": [
    {
     "data": {
      "text/plain": [
       "<matplotlib.axes._subplots.AxesSubplot at 0x205feed4470>"
      ]
     },
     "execution_count": 41,
     "metadata": {},
     "output_type": "execute_result"
    },
    {
     "data": {
      "image/png": "[encoded data removed]",
      "text/plain": [
       "<Figure size 432x288 with 1 Axes>"
      ]
     },
     "metadata": {},
     "output_type": "display_data"
    }
   ],
   "source": [
    "df['obs']= 1\n",
    "df['hour'] = df['stop_time'].str.extract('(^[0-9]*[^\\(:]+)')\n",
    "df['hour'] = pd.to_numeric(df['hour'],errors='coerce')\n",
    "sns.lineplot(x='hour',y='obs',hue='race_ethnicity',data=df.groupby(['hour','race_ethnicity'])['obs'].sum().reset_index())"
   ]
  },
  {
   "cell_type": "code",
   "execution_count": 72,
   "metadata": {},
   "outputs": [],
   "source": [
    "grp_cs = census_mlt_race[['puma','race_ethnicity','value']].copy()\n",
    "grp_cs.rename(columns={'value':'count'},inplace=True)\n",
    "grp_cs['value'] = 'census demographics'\n",
    "grp_cs['pct'] = np.round((grp_cs['count'] / grp_cs['count'].sum())*100,2)"
   ]
  },
  {
   "cell_type": "code",
   "execution_count": 73,
   "metadata": {
    "scrolled": true
   },
   "outputs": [
    {
     "data": {
      "text/html": [
       "<div>\n",
       "<style scoped>\n",
       "    .dataframe tbody tr th:only-of-type {\n",
       "        vertical-align: middle;\n",
       "    }\n",
       "\n",
       "    .dataframe tbody tr th {\n",
       "        vertical-align: top;\n",
       "    }\n",
       "\n",
       "    .dataframe thead th {\n",
       "        text-align: right;\n",
       "    }\n",
       "</style>\n",
       "<table border=\"1\" class=\"dataframe\">\n",
       "  <thead>\n",
       "    <tr style=\"text-align: right;\">\n",
       "      <th></th>\n",
       "      <th>observation</th>\n",
       "      <th>race_ethnicity</th>\n",
       "      <th>gender</th>\n",
       "      <th>age</th>\n",
       "      <th>puma</th>\n",
       "      <th>variable</th>\n",
       "      <th>value</th>\n",
       "    </tr>\n",
       "  </thead>\n",
       "  <tbody>\n",
       "    <tr>\n",
       "      <th>0</th>\n",
       "      <td>1</td>\n",
       "      <td>Black</td>\n",
       "      <td>Male</td>\n",
       "      <td>63.0</td>\n",
       "      <td>1</td>\n",
       "      <td>0</td>\n",
       "      <td>Traffic violation</td>\n",
       "    </tr>\n",
       "    <tr>\n",
       "      <th>1</th>\n",
       "      <td>2</td>\n",
       "      <td>Black</td>\n",
       "      <td>Male</td>\n",
       "      <td>17.0</td>\n",
       "      <td>0</td>\n",
       "      <td>0</td>\n",
       "      <td>Individuals actions</td>\n",
       "    </tr>\n",
       "    <tr>\n",
       "      <th>2</th>\n",
       "      <td>3</td>\n",
       "      <td>Black</td>\n",
       "      <td>Male</td>\n",
       "      <td>45.0</td>\n",
       "      <td>1</td>\n",
       "      <td>0</td>\n",
       "      <td>Individuals actions</td>\n",
       "    </tr>\n",
       "    <tr>\n",
       "      <th>3</th>\n",
       "      <td>4</td>\n",
       "      <td>Black</td>\n",
       "      <td>Male</td>\n",
       "      <td>27.0</td>\n",
       "      <td>0</td>\n",
       "      <td>0</td>\n",
       "      <td>Call for service</td>\n",
       "    </tr>\n",
       "    <tr>\n",
       "      <th>4</th>\n",
       "      <td>5</td>\n",
       "      <td>Black</td>\n",
       "      <td>Male</td>\n",
       "      <td>17.0</td>\n",
       "      <td>1</td>\n",
       "      <td>0</td>\n",
       "      <td>Call for service</td>\n",
       "    </tr>\n",
       "  </tbody>\n",
       "</table>\n",
       "</div>"
      ],
      "text/plain": [
       "  observation race_ethnicity gender   age  puma variable                 value\n",
       "0           1          Black   Male  63.0     1        0     Traffic violation\n",
       "1           2          Black   Male  17.0     0        0  Individuals actions\n",
       "2           3          Black   Male  45.0     1        0  Individuals actions\n",
       "3           4          Black   Male  27.0     0        0      Call for service\n",
       "4           5          Black   Male  17.0     1        0      Call for service"
      ]
     },
     "execution_count": 73,
     "metadata": {},
     "output_type": "execute_result"
    }
   ],
   "source": [
    "df['stop_reason'] = np.where(df['stop_reason_nonticket'].notnull(),df['stop_reason_nonticket'],df['stop_reason_harbor'])\n",
    "df['stop_reason'] = np.where(df['stop_reason'].isnull(),df['stop_reason_ticket'],df['stop_reason'])\n",
    "df_reasons = pd.concat([df,df['stop_reason'].str.split(';',expand=True)],axis=1)\n",
    "df_reasons = df_reasons[['puma','observation','race_ethnicity','gender','age',0,1,2,3,4,5,6,7]].melt(id_vars=['observation','race_ethnicity','gender','age','puma'])\n",
    "df_reasons.value = df_reasons.value.str.strip()\n",
    "df_reasons.head()"
   ]
  },
  {
   "cell_type": "code",
   "execution_count": 74,
   "metadata": {},
   "outputs": [],
   "source": [
    "df_reasons['value'].replace({'Calls for service':'Call for service'},inplace=True)\n",
    "grp = df_reasons.groupby(['puma','race_ethnicity','value'])['age'].agg(['count','mean']).reset_index()\n",
    "grp['pct'] = np.round((grp['count'] / df.shape[0])*100,2)\n",
    "grp['district'] = np.where(grp['puma']==0,'Police Districts 1 - 5',\"Police Districts 6 & 7\")\n",
    "grp_cs['district'] = np.where(grp_cs['puma']==0,'Police Districts 1 - 5',\"Police Districts 6 & 7\")"
   ]
  },
  {
   "cell_type": "code",
   "execution_count": 75,
   "metadata": {},
   "outputs": [
    {
     "data": {
      "text/plain": [
       "Observed moving violation                                    35683\n",
       "Call for service                                             12075\n",
       "Observed equipment violation                                  5366\n",
       "Individual<U+0092>s actions                                   4733\n",
       "Traffic violation                                             4067\n",
       "BOLO/Lookout                                                  3156\n",
       "Suspicion of criminal activity (self-initiated)               3081\n",
       "Warrant/court order                                           2459\n",
       "Information obtained from law enforcement sources             2426\n",
       "Response to Crash                                             2075\n",
       "Information obtained from witnesses or informants             1582\n",
       "Prior knowledge                                               1301\n",
       "Individual<U+0092>s characteristics                           1139\n",
       "Individuals actions                                           778\n",
       "Demeanor during a field contact                                684\n",
       "Response to crash                                              322\n",
       "Observed a weapon                                              250\n",
       "Individuals characteristics                                   203\n",
       "Boating Violation                                              184\n",
       "Safety Inspection                                              157\n",
       "Self-initiated: suspicion of a non-traffic crim. activity       63\n",
       "Info. obtained from LE sources                                  58\n",
       "stop_reason_nonticket                                            1\n",
       "Name: value, dtype: int64"
      ]
     },
     "execution_count": 75,
     "metadata": {},
     "output_type": "execute_result"
    }
   ],
   "source": [
    "df_reasons['value'].value_counts()"
   ]
  },
  {
   "cell_type": "code",
   "execution_count": 76,
   "metadata": {},
   "outputs": [],
   "source": [
    "col_order = list(df_reasons['value'].value_counts().index)"
   ]
  },
  {
   "cell_type": "code",
   "execution_count": 77,
   "metadata": {
    "scrolled": true
   },
   "outputs": [
    {
     "data": {
      "text/plain": [
       "<matplotlib.axes._subplots.AxesSubplot at 0x20588978cf8>"
      ]
     },
     "execution_count": 77,
     "metadata": {},
     "output_type": "execute_result"
    },
    {
     "data": {
      "image/png": "[encoded data removed]",
      "text/plain": [
       "<Figure size 432x288 with 1 Axes>"
      ]
     },
     "metadata": {},
     "output_type": "display_data"
    }
   ],
   "source": [
    "sns.barplot(x='race_ethnicity',y='pct',hue='district',data=grp_cs,palette=sns.color_palette(['blue', 'orange']),ci=None,\n",
    "           order=['White','Black','Hispanic','Asian','Multiple','Other'])"
   ]
  },
  {
   "cell_type": "code",
   "execution_count": 78,
   "metadata": {
    "scrolled": false
   },
   "outputs": [
    {
     "name": "stderr",
     "output_type": "stream",
     "text": [
      "C:\\Users\\Noah\\Anaconda3\\lib\\site-packages\\matplotlib\\backends\\backend_agg.py:214: RuntimeWarning: Glyph 146 missing from current font.\n",
      "  font.set_text(s, 0.0, flags=flags)\n",
      "C:\\Users\\Noah\\Anaconda3\\lib\\site-packages\\matplotlib\\backends\\backend_agg.py:183: RuntimeWarning: Glyph 146 missing from current font.\n",
      "  font.set_text(s, 0, flags=flags)\n"
     ]
    },
    {
     "data": {
      "image/png": "[encoded data removed]",
      "text/plain": [
       "<Figure size 1219.5x2880 with 23 Axes>"
      ]
     },
     "metadata": {},
     "output_type": "display_data"
    }
   ],
   "source": [
    "g= sns.catplot(x='race_ethnicity',y='pct',hue='district',col='value',data=grp,kind='bar',col_wrap=3,palette=sns.color_palette(['blue', 'orange']),ci=None,\n",
    "              order=['White','Black','Hispanic','Asian','Multiple','Other'],col_order=col_order)\n"
   ]
  },
  {
   "cell_type": "markdown",
   "metadata": {},
   "source": [
    "# Who's paying for tickets"
   ]
  },
  {
   "cell_type": "code",
   "execution_count": 133,
   "metadata": {},
   "outputs": [],
   "source": [
    "grp_cs = census_mlt_gen[['puma','race_ethnicity','gender','pct']].copy()\n",
    "grp_cs['value'] = 'census demographics'\n",
    "grp_cs['district'] = np.where(grp_cs['puma']==0,'Police Districts 1 - 5',\"Police Districts 6 & 7\")"
   ]
  },
  {
   "cell_type": "code",
   "execution_count": 151,
   "metadata": {
    "scrolled": false
   },
   "outputs": [
    {
     "data": {
      "text/plain": [
       "<seaborn.axisgrid.FacetGrid at 0x2058efd1668>"
      ]
     },
     "execution_count": 151,
     "metadata": {},
     "output_type": "execute_result"
    },
    {
     "data": {
      "image/png": "[encoded data removed]",
      "text/plain": [
       "<Figure size 859.5x360 with 2 Axes>"
      ]
     },
     "metadata": {},
     "output_type": "display_data"
    }
   ],
   "source": [
    "sns.catplot(x='race_ethnicity',y='pct',hue='district',col='gender',kind='bar',data=grp_cs,palette=sns.color_palette(['blue', 'orange']),ci=None,\n",
    "           order=['White','Black','Hispanic','Asian','Multiple','Other'],col_order=['Male','Female'])"
   ]
  },
  {
   "cell_type": "code",
   "execution_count": 146,
   "metadata": {},
   "outputs": [],
   "source": [
    "df['ticket'] = np.where(df['stop_reason_nonticket'].notnull(),1,0)\n",
    "grp = df[df['stop_reason_harbor'].isnull()].groupby(['puma','race_ethnicity','gender'])['ticket'].sum().reset_index()\n",
    "grp = grp[grp.gender.isin(['Female','Male'])]\n",
    "grp['pct'] = np.round((grp['ticket'] / grp.ticket.sum())*100,2)\n",
    "grp['district'] = np.where(grp['puma']==0,'Police Districts 1 - 5',\"Police Districts 6 & 7\")"
   ]
  },
  {
   "cell_type": "code",
   "execution_count": 154,
   "metadata": {
    "scrolled": false
   },
   "outputs": [
    {
     "ename": "AttributeError",
     "evalue": "'FacetGrid' object has no attribute 'set_title'",
     "output_type": "error",
     "traceback": [
      "\u001b[1;31m---------------------------------------------------------------------------\u001b[0m",
      "\u001b[1;31mAttributeError\u001b[0m                            Traceback (most recent call last)",
      "\u001b[1;32m<ipython-input-154-ee254b9d51aa>\u001b[0m in \u001b[0;36m<module>\u001b[1;34m()\u001b[0m\n\u001b[0;32m      1\u001b[0m g= sns.catplot(x='race_ethnicity',y='pct',hue='district',col='gender',data=grp,kind='bar',palette=sns.color_palette(['blue', 'orange']),ci=None,\n\u001b[0;32m      2\u001b[0m               order=['White','Black','Hispanic','Asian','Multiple','Other'],col_order=['Male','Female'])\n\u001b[1;32m----> 3\u001b[1;33m \u001b[0mg\u001b[0m\u001b[1;33m.\u001b[0m\u001b[0mset_title\u001b[0m\u001b[1;33m(\u001b[0m\u001b[1;34m''\u001b[0m\u001b[1;33m)\u001b[0m\u001b[1;33m\u001b[0m\u001b[0m\n\u001b[0m",
      "\u001b[1;31mAttributeError\u001b[0m: 'FacetGrid' object has no attribute 'set_title'"
     ]
    },
    {
     "data": {
      "image/png": "[encoded data removed]",
      "text/plain": [
       "<Figure size 859.5x360 with 2 Axes>"
      ]
     },
     "metadata": {},
     "output_type": "display_data"
    }
   ],
   "source": [
    "# Share of total tickets\n",
    "g= sns.catplot(x='race_ethnicity',y='pct',hue='district',col='gender',data=grp,kind='bar',palette=sns.color_palette(['blue', 'orange']),ci=None,\n",
    "              order=['White','Black','Hispanic','Asian','Multiple','Other'],col_order=['Male','Female'])"
   ]
  },
  {
   "cell_type": "code",
   "execution_count": 159,
   "metadata": {},
   "outputs": [],
   "source": [
    "df['ticket'] = np.where(df['stop_reason_nonticket'].notnull(),1,0)\n",
    "grp = df[df['stop_reason_harbor'].isnull()].groupby(['puma','race_ethnicity','gender'])['ticket'].agg(['sum','count']).reset_index()\n",
    "grp = grp[grp.gender.isin(['Female','Male'])]\n",
    "\n",
    "grp['pct'] = np.round((grp['sum'] / grp['count'])*100,2)\n",
    "grp['district'] = np.where(grp['puma']==0,'Police Districts 1 - 5',\"Police Districts 6 & 7\")"
   ]
  },
  {
   "cell_type": "code",
   "execution_count": 160,
   "metadata": {},
   "outputs": [
    {
     "data": {
      "image/png": "[encoded data removed]",
      "text/plain": [
       "<Figure size 859.5x360 with 2 Axes>"
      ]
     },
     "metadata": {},
     "output_type": "display_data"
    }
   ],
   "source": [
    "#Share of stops resulting in tickets\n",
    "g= sns.catplot(x='race_ethnicity',y='pct',hue='district',col='gender',data=grp,kind='bar',palette=sns.color_palette(['blue', 'orange']),ci=None,\n",
    "              order=['White','Black','Hispanic','Asian','Multiple','Other'],col_order=['Male','Female'])"
   ]
  },
  {
   "cell_type": "markdown",
   "metadata": {},
   "source": [
    "# Black Males"
   ]
  },
  {
   "cell_type": "code",
   "execution_count": 79,
   "metadata": {
    "scrolled": true
   },
   "outputs": [
    {
     "name": "stderr",
     "output_type": "stream",
     "text": [
      "C:\\Users\\Noah\\Anaconda3\\lib\\site-packages\\pandas\\core\\strings.py:1954: UserWarning: This pattern has match groups. To actually get the groups, use str.extract.\n",
      "  return func(self, *args, **kwargs)\n"
     ]
    },
    {
     "data": {
      "text/html": [
       "<div>\n",
       "<style scoped>\n",
       "    .dataframe tbody tr th:only-of-type {\n",
       "        vertical-align: middle;\n",
       "    }\n",
       "\n",
       "    .dataframe tbody tr th {\n",
       "        vertical-align: top;\n",
       "    }\n",
       "\n",
       "    .dataframe thead th {\n",
       "        text-align: right;\n",
       "    }\n",
       "</style>\n",
       "<table border=\"1\" class=\"dataframe\">\n",
       "  <thead>\n",
       "    <tr style=\"text-align: right;\">\n",
       "      <th></th>\n",
       "      <th>puma</th>\n",
       "      <th>variable</th>\n",
       "      <th>value</th>\n",
       "    </tr>\n",
       "  </thead>\n",
       "  <tbody>\n",
       "    <tr>\n",
       "      <th>0</th>\n",
       "      <td>0</td>\n",
       "      <td>Under 5 years</td>\n",
       "      <td>4159</td>\n",
       "    </tr>\n",
       "    <tr>\n",
       "      <th>1</th>\n",
       "      <td>1</td>\n",
       "      <td>Under 5 years</td>\n",
       "      <td>6715</td>\n",
       "    </tr>\n",
       "    <tr>\n",
       "      <th>2</th>\n",
       "      <td>0</td>\n",
       "      <td>5 to 9 years</td>\n",
       "      <td>4418</td>\n",
       "    </tr>\n",
       "    <tr>\n",
       "      <th>3</th>\n",
       "      <td>1</td>\n",
       "      <td>5 to 9 years</td>\n",
       "      <td>5509</td>\n",
       "    </tr>\n",
       "    <tr>\n",
       "      <th>4</th>\n",
       "      <td>0</td>\n",
       "      <td>10 to 14 years</td>\n",
       "      <td>3685</td>\n",
       "    </tr>\n",
       "    <tr>\n",
       "      <th>5</th>\n",
       "      <td>1</td>\n",
       "      <td>10 to 14 years</td>\n",
       "      <td>4824</td>\n",
       "    </tr>\n",
       "    <tr>\n",
       "      <th>6</th>\n",
       "      <td>0</td>\n",
       "      <td>15 to 17 years</td>\n",
       "      <td>2442</td>\n",
       "    </tr>\n",
       "    <tr>\n",
       "      <th>7</th>\n",
       "      <td>1</td>\n",
       "      <td>15 to 17 years</td>\n",
       "      <td>2778</td>\n",
       "    </tr>\n",
       "    <tr>\n",
       "      <th>8</th>\n",
       "      <td>0</td>\n",
       "      <td>18 and 19 years</td>\n",
       "      <td>2209</td>\n",
       "    </tr>\n",
       "    <tr>\n",
       "      <th>9</th>\n",
       "      <td>1</td>\n",
       "      <td>18 and 19 years</td>\n",
       "      <td>2078</td>\n",
       "    </tr>\n",
       "    <tr>\n",
       "      <th>10</th>\n",
       "      <td>0</td>\n",
       "      <td>20 to 24 years</td>\n",
       "      <td>6358</td>\n",
       "    </tr>\n",
       "    <tr>\n",
       "      <th>11</th>\n",
       "      <td>1</td>\n",
       "      <td>20 to 24 years</td>\n",
       "      <td>5161</td>\n",
       "    </tr>\n",
       "    <tr>\n",
       "      <th>12</th>\n",
       "      <td>0</td>\n",
       "      <td>25 to 29 years</td>\n",
       "      <td>7330</td>\n",
       "    </tr>\n",
       "    <tr>\n",
       "      <th>13</th>\n",
       "      <td>1</td>\n",
       "      <td>25 to 29 years</td>\n",
       "      <td>5188</td>\n",
       "    </tr>\n",
       "    <tr>\n",
       "      <th>14</th>\n",
       "      <td>0</td>\n",
       "      <td>30 to 34 years</td>\n",
       "      <td>5973</td>\n",
       "    </tr>\n",
       "    <tr>\n",
       "      <th>15</th>\n",
       "      <td>1</td>\n",
       "      <td>30 to 34 years</td>\n",
       "      <td>4515</td>\n",
       "    </tr>\n",
       "    <tr>\n",
       "      <th>16</th>\n",
       "      <td>0</td>\n",
       "      <td>35 to 44 years</td>\n",
       "      <td>9816</td>\n",
       "    </tr>\n",
       "    <tr>\n",
       "      <th>17</th>\n",
       "      <td>1</td>\n",
       "      <td>35 to 44 years</td>\n",
       "      <td>7441</td>\n",
       "    </tr>\n",
       "    <tr>\n",
       "      <th>18</th>\n",
       "      <td>0</td>\n",
       "      <td>45 to 54 years</td>\n",
       "      <td>11377</td>\n",
       "    </tr>\n",
       "    <tr>\n",
       "      <th>19</th>\n",
       "      <td>1</td>\n",
       "      <td>45 to 54 years</td>\n",
       "      <td>6917</td>\n",
       "    </tr>\n",
       "    <tr>\n",
       "      <th>20</th>\n",
       "      <td>0</td>\n",
       "      <td>55 to 64 years</td>\n",
       "      <td>11012</td>\n",
       "    </tr>\n",
       "    <tr>\n",
       "      <th>21</th>\n",
       "      <td>1</td>\n",
       "      <td>55 to 64 years</td>\n",
       "      <td>7688</td>\n",
       "    </tr>\n",
       "    <tr>\n",
       "      <th>22</th>\n",
       "      <td>0</td>\n",
       "      <td>65 to 74 years</td>\n",
       "      <td>6499</td>\n",
       "    </tr>\n",
       "    <tr>\n",
       "      <th>23</th>\n",
       "      <td>1</td>\n",
       "      <td>65 to 74 years</td>\n",
       "      <td>4150</td>\n",
       "    </tr>\n",
       "    <tr>\n",
       "      <th>24</th>\n",
       "      <td>0</td>\n",
       "      <td>75 to 84 years</td>\n",
       "      <td>3239</td>\n",
       "    </tr>\n",
       "    <tr>\n",
       "      <th>25</th>\n",
       "      <td>1</td>\n",
       "      <td>75 to 84 years</td>\n",
       "      <td>1531</td>\n",
       "    </tr>\n",
       "    <tr>\n",
       "      <th>26</th>\n",
       "      <td>0</td>\n",
       "      <td>85 years and over</td>\n",
       "      <td>1638</td>\n",
       "    </tr>\n",
       "    <tr>\n",
       "      <th>27</th>\n",
       "      <td>1</td>\n",
       "      <td>85 years and over</td>\n",
       "      <td>589</td>\n",
       "    </tr>\n",
       "  </tbody>\n",
       "</table>\n",
       "</div>"
      ],
      "text/plain": [
       "    puma           variable  value\n",
       "0      0      Under 5 years   4159\n",
       "1      1      Under 5 years   6715\n",
       "2      0       5 to 9 years   4418\n",
       "3      1       5 to 9 years   5509\n",
       "4      0     10 to 14 years   3685\n",
       "5      1     10 to 14 years   4824\n",
       "6      0     15 to 17 years   2442\n",
       "7      1     15 to 17 years   2778\n",
       "8      0    18 and 19 years   2209\n",
       "9      1    18 and 19 years   2078\n",
       "10     0     20 to 24 years   6358\n",
       "11     1     20 to 24 years   5161\n",
       "12     0     25 to 29 years   7330\n",
       "13     1     25 to 29 years   5188\n",
       "14     0     30 to 34 years   5973\n",
       "15     1     30 to 34 years   4515\n",
       "16     0     35 to 44 years   9816\n",
       "17     1     35 to 44 years   7441\n",
       "18     0     45 to 54 years  11377\n",
       "19     1     45 to 54 years   6917\n",
       "20     0     55 to 64 years  11012\n",
       "21     1     55 to 64 years   7688\n",
       "22     0     65 to 74 years   6499\n",
       "23     1     65 to 74 years   4150\n",
       "24     0     75 to 84 years   3239\n",
       "25     1     75 to 84 years   1531\n",
       "26     0  85 years and over   1638\n",
       "27     1  85 years and over    589"
      ]
     },
     "execution_count": 79,
     "metadata": {},
     "output_type": "execute_result"
    }
   ],
   "source": [
    "census = cd.download('acs5', 2018,\n",
    "                            cd.censusgeo([('state','11'),('public use microdata area','*')]),blk_males)\n",
    "cols = ['Under 5 years',\n",
    "'5 to 9 years',\n",
    "'10 to 14 years',\n",
    "'15 to 17 years',\n",
    "'18 and 19 years',\n",
    "'20 to 24 years',\n",
    "'25 to 29 years',\n",
    "'30 to 34 years',\n",
    "'35 to 44 years',\n",
    "'45 to 54 years',\n",
    "'55 to 64 years',\n",
    "'65 to 74 years',\n",
    "'75 to 84 years',\n",
    "'85 years and over']\n",
    "\n",
    "census.columns = cols\n",
    "census = census.reset_index()\n",
    "census['index'] = census['index'].astype(str)\n",
    "census['puma'] = np.where(census['index'].str.contains('(East)'),1,0)\n",
    "census =census[['puma']+cols].groupby(['puma']).sum().reset_index()\n",
    "census_melt = pd.melt(census,id_vars='puma')\n",
    "census_melt"
   ]
  },
  {
   "cell_type": "code",
   "execution_count": 80,
   "metadata": {
    "collapsed": true
   },
   "outputs": [],
   "source": [
    "conditions = [census_melt['variable'].isin(['Under 5 years',\n",
    "                                '5 to 9 years',\n",
    "                                '10 to 14 years',\n",
    "                                '15 to 17 years']),\n",
    "        census_melt['variable'] == '18 and 19 years',\n",
    "        census_melt['variable'] == '20 to 24 years',\n",
    "        census_melt['variable'] == '25 to 29 years',\n",
    "        census_melt['variable'] == '30 to 34 years',\n",
    "      census_melt['variable'] == '35 to 44 years',\n",
    "    census_melt['variable'] == '45 to 54 years',\n",
    "            census_melt['variable'].isin(['55 to 64 years',\n",
    "                                '65 to 74 years',\n",
    "                                '75 to 84 years',\n",
    "                                '85 years and over'])\n",
    "       ]\n",
    "\n",
    "selections =['Under 18\\nyears',\n",
    "'18 and 19\\nyears',\n",
    "'20 to 24\\nyears',\n",
    "'25 to 29\\nyears',\n",
    "'30 to 34\\nyears',\n",
    "'35 to 44\\nyears',\n",
    "'45 to 54\\nyears',\n",
    "'55 and over']\n"
   ]
  },
  {
   "cell_type": "code",
   "execution_count": 81,
   "metadata": {
    "scrolled": true
   },
   "outputs": [
    {
     "data": {
      "text/html": [
       "<div>\n",
       "<style scoped>\n",
       "    .dataframe tbody tr th:only-of-type {\n",
       "        vertical-align: middle;\n",
       "    }\n",
       "\n",
       "    .dataframe tbody tr th {\n",
       "        vertical-align: top;\n",
       "    }\n",
       "\n",
       "    .dataframe thead th {\n",
       "        text-align: right;\n",
       "    }\n",
       "</style>\n",
       "<table border=\"1\" class=\"dataframe\">\n",
       "  <thead>\n",
       "    <tr style=\"text-align: right;\">\n",
       "      <th></th>\n",
       "      <th>puma</th>\n",
       "      <th>age_bucket</th>\n",
       "      <th>value</th>\n",
       "    </tr>\n",
       "  </thead>\n",
       "  <tbody>\n",
       "    <tr>\n",
       "      <th>0</th>\n",
       "      <td>0</td>\n",
       "      <td>18 and 19\\nyears</td>\n",
       "      <td>2209</td>\n",
       "    </tr>\n",
       "    <tr>\n",
       "      <th>1</th>\n",
       "      <td>0</td>\n",
       "      <td>20 to 24\\nyears</td>\n",
       "      <td>6358</td>\n",
       "    </tr>\n",
       "    <tr>\n",
       "      <th>2</th>\n",
       "      <td>0</td>\n",
       "      <td>25 to 29\\nyears</td>\n",
       "      <td>7330</td>\n",
       "    </tr>\n",
       "    <tr>\n",
       "      <th>3</th>\n",
       "      <td>0</td>\n",
       "      <td>30 to 34\\nyears</td>\n",
       "      <td>5973</td>\n",
       "    </tr>\n",
       "    <tr>\n",
       "      <th>4</th>\n",
       "      <td>0</td>\n",
       "      <td>35 to 44\\nyears</td>\n",
       "      <td>9816</td>\n",
       "    </tr>\n",
       "    <tr>\n",
       "      <th>5</th>\n",
       "      <td>0</td>\n",
       "      <td>45 to 54\\nyears</td>\n",
       "      <td>11377</td>\n",
       "    </tr>\n",
       "    <tr>\n",
       "      <th>6</th>\n",
       "      <td>0</td>\n",
       "      <td>55 and over</td>\n",
       "      <td>22388</td>\n",
       "    </tr>\n",
       "    <tr>\n",
       "      <th>7</th>\n",
       "      <td>0</td>\n",
       "      <td>Under 18\\nyears</td>\n",
       "      <td>14704</td>\n",
       "    </tr>\n",
       "    <tr>\n",
       "      <th>8</th>\n",
       "      <td>1</td>\n",
       "      <td>18 and 19\\nyears</td>\n",
       "      <td>2078</td>\n",
       "    </tr>\n",
       "    <tr>\n",
       "      <th>9</th>\n",
       "      <td>1</td>\n",
       "      <td>20 to 24\\nyears</td>\n",
       "      <td>5161</td>\n",
       "    </tr>\n",
       "    <tr>\n",
       "      <th>10</th>\n",
       "      <td>1</td>\n",
       "      <td>25 to 29\\nyears</td>\n",
       "      <td>5188</td>\n",
       "    </tr>\n",
       "    <tr>\n",
       "      <th>11</th>\n",
       "      <td>1</td>\n",
       "      <td>30 to 34\\nyears</td>\n",
       "      <td>4515</td>\n",
       "    </tr>\n",
       "    <tr>\n",
       "      <th>12</th>\n",
       "      <td>1</td>\n",
       "      <td>35 to 44\\nyears</td>\n",
       "      <td>7441</td>\n",
       "    </tr>\n",
       "    <tr>\n",
       "      <th>13</th>\n",
       "      <td>1</td>\n",
       "      <td>45 to 54\\nyears</td>\n",
       "      <td>6917</td>\n",
       "    </tr>\n",
       "    <tr>\n",
       "      <th>14</th>\n",
       "      <td>1</td>\n",
       "      <td>55 and over</td>\n",
       "      <td>13958</td>\n",
       "    </tr>\n",
       "    <tr>\n",
       "      <th>15</th>\n",
       "      <td>1</td>\n",
       "      <td>Under 18\\nyears</td>\n",
       "      <td>19826</td>\n",
       "    </tr>\n",
       "  </tbody>\n",
       "</table>\n",
       "</div>"
      ],
      "text/plain": [
       "    puma        age_bucket  value\n",
       "0      0  18 and 19\\nyears   2209\n",
       "1      0   20 to 24\\nyears   6358\n",
       "2      0   25 to 29\\nyears   7330\n",
       "3      0   30 to 34\\nyears   5973\n",
       "4      0   35 to 44\\nyears   9816\n",
       "5      0   45 to 54\\nyears  11377\n",
       "6      0       55 and over  22388\n",
       "7      0   Under 18\\nyears  14704\n",
       "8      1  18 and 19\\nyears   2078\n",
       "9      1   20 to 24\\nyears   5161\n",
       "10     1   25 to 29\\nyears   5188\n",
       "11     1   30 to 34\\nyears   4515\n",
       "12     1   35 to 44\\nyears   7441\n",
       "13     1   45 to 54\\nyears   6917\n",
       "14     1       55 and over  13958\n",
       "15     1   Under 18\\nyears  19826"
      ]
     },
     "execution_count": 81,
     "metadata": {},
     "output_type": "execute_result"
    }
   ],
   "source": [
    "census_melt['age_bucket'] = np.select(conditions,selections)\n",
    "census_melt = census_melt.groupby(['puma','age_bucket'])['value'].sum().reset_index()\n",
    "census_melt"
   ]
  },
  {
   "cell_type": "code",
   "execution_count": 82,
   "metadata": {},
   "outputs": [
    {
     "data": {
      "text/plain": [
       "<matplotlib.axes._subplots.AxesSubplot at 0x20583d35828>"
      ]
     },
     "execution_count": 82,
     "metadata": {},
     "output_type": "execute_result"
    },
    {
     "data": {
      "image/png": "[encoded data removed]",
      "text/plain": [
       "<Figure size 432x288 with 1 Axes>"
      ]
     },
     "metadata": {},
     "output_type": "display_data"
    }
   ],
   "source": [
    "df['age'].hist()"
   ]
  },
  {
   "cell_type": "code",
   "execution_count": 83,
   "metadata": {},
   "outputs": [
    {
     "data": {
      "text/html": [
       "<div>\n",
       "<style scoped>\n",
       "    .dataframe tbody tr th:only-of-type {\n",
       "        vertical-align: middle;\n",
       "    }\n",
       "\n",
       "    .dataframe tbody tr th {\n",
       "        vertical-align: top;\n",
       "    }\n",
       "\n",
       "    .dataframe thead th {\n",
       "        text-align: right;\n",
       "    }\n",
       "</style>\n",
       "<table border=\"1\" class=\"dataframe\">\n",
       "  <thead>\n",
       "    <tr style=\"text-align: right;\">\n",
       "      <th></th>\n",
       "      <th>puma</th>\n",
       "      <th>age_bucket</th>\n",
       "      <th>count</th>\n",
       "    </tr>\n",
       "  </thead>\n",
       "  <tbody>\n",
       "    <tr>\n",
       "      <th>0</th>\n",
       "      <td>0</td>\n",
       "      <td>18 and 19\\nyears</td>\n",
       "      <td>576</td>\n",
       "    </tr>\n",
       "    <tr>\n",
       "      <th>1</th>\n",
       "      <td>0</td>\n",
       "      <td>20 to 24\\nyears</td>\n",
       "      <td>2412</td>\n",
       "    </tr>\n",
       "    <tr>\n",
       "      <th>2</th>\n",
       "      <td>0</td>\n",
       "      <td>25 to 29\\nyears</td>\n",
       "      <td>3669</td>\n",
       "    </tr>\n",
       "    <tr>\n",
       "      <th>3</th>\n",
       "      <td>0</td>\n",
       "      <td>30 to 34\\nyears</td>\n",
       "      <td>2855</td>\n",
       "    </tr>\n",
       "    <tr>\n",
       "      <th>4</th>\n",
       "      <td>0</td>\n",
       "      <td>35 to 44\\nyears</td>\n",
       "      <td>4272</td>\n",
       "    </tr>\n",
       "    <tr>\n",
       "      <th>5</th>\n",
       "      <td>0</td>\n",
       "      <td>45 to 54\\nyears</td>\n",
       "      <td>3092</td>\n",
       "    </tr>\n",
       "    <tr>\n",
       "      <th>6</th>\n",
       "      <td>0</td>\n",
       "      <td>55 and over</td>\n",
       "      <td>3214</td>\n",
       "    </tr>\n",
       "    <tr>\n",
       "      <th>7</th>\n",
       "      <td>0</td>\n",
       "      <td>Under 18\\nyears</td>\n",
       "      <td>1241</td>\n",
       "    </tr>\n",
       "    <tr>\n",
       "      <th>8</th>\n",
       "      <td>1</td>\n",
       "      <td>18 and 19\\nyears</td>\n",
       "      <td>526</td>\n",
       "    </tr>\n",
       "    <tr>\n",
       "      <th>9</th>\n",
       "      <td>1</td>\n",
       "      <td>20 to 24\\nyears</td>\n",
       "      <td>2091</td>\n",
       "    </tr>\n",
       "    <tr>\n",
       "      <th>10</th>\n",
       "      <td>1</td>\n",
       "      <td>25 to 29\\nyears</td>\n",
       "      <td>2716</td>\n",
       "    </tr>\n",
       "    <tr>\n",
       "      <th>11</th>\n",
       "      <td>1</td>\n",
       "      <td>30 to 34\\nyears</td>\n",
       "      <td>1855</td>\n",
       "    </tr>\n",
       "    <tr>\n",
       "      <th>12</th>\n",
       "      <td>1</td>\n",
       "      <td>35 to 44\\nyears</td>\n",
       "      <td>2348</td>\n",
       "    </tr>\n",
       "    <tr>\n",
       "      <th>13</th>\n",
       "      <td>1</td>\n",
       "      <td>45 to 54\\nyears</td>\n",
       "      <td>1488</td>\n",
       "    </tr>\n",
       "    <tr>\n",
       "      <th>14</th>\n",
       "      <td>1</td>\n",
       "      <td>55 and over</td>\n",
       "      <td>1437</td>\n",
       "    </tr>\n",
       "    <tr>\n",
       "      <th>15</th>\n",
       "      <td>1</td>\n",
       "      <td>Under 18\\nyears</td>\n",
       "      <td>698</td>\n",
       "    </tr>\n",
       "  </tbody>\n",
       "</table>\n",
       "</div>"
      ],
      "text/plain": [
       "    puma        age_bucket  count\n",
       "0      0  18 and 19\\nyears    576\n",
       "1      0   20 to 24\\nyears   2412\n",
       "2      0   25 to 29\\nyears   3669\n",
       "3      0   30 to 34\\nyears   2855\n",
       "4      0   35 to 44\\nyears   4272\n",
       "5      0   45 to 54\\nyears   3092\n",
       "6      0       55 and over   3214\n",
       "7      0   Under 18\\nyears   1241\n",
       "8      1  18 and 19\\nyears    526\n",
       "9      1   20 to 24\\nyears   2091\n",
       "10     1   25 to 29\\nyears   2716\n",
       "11     1   30 to 34\\nyears   1855\n",
       "12     1   35 to 44\\nyears   2348\n",
       "13     1   45 to 54\\nyears   1488\n",
       "14     1       55 and over   1437\n",
       "15     1   Under 18\\nyears    698"
      ]
     },
     "execution_count": 83,
     "metadata": {},
     "output_type": "execute_result"
    }
   ],
   "source": [
    "conditions = [df['age']<=17,\n",
    "(df['age']>=18)&(df['age']<=19),\n",
    "(df['age']>=20)&(df['age']<=24),\n",
    "(df['age']>=25)&(df['age']<=29),\n",
    "(df['age']>=30)&(df['age']<=34),\n",
    "(df['age']>=35)&(df['age']<=44),\n",
    "(df['age']>=45)&(df['age']<=54),\n",
    "(df['age']>=55)]\n",
    "\n",
    "\n",
    "df['age_bucket'] = np.select(conditions,selections,'missing')\n",
    "data = df[(df['gender']=='Male')&(df['race_ethnicity']=='Black')&(df['age'].notnull())].groupby(['puma','age_bucket'])['age'].agg(['count']).reset_index()\n",
    "data"
   ]
  },
  {
   "cell_type": "code",
   "execution_count": 84,
   "metadata": {
    "collapsed": true
   },
   "outputs": [],
   "source": [
    "census_melt['pct'] = np.round((census_melt['value'] / census_melt['value'].sum())*100,2)\n",
    "census_melt['var'] = 'black male population'\n",
    "data['pct'] = np.round((data['count'] / data['count'].sum())*100,2)\n",
    "data['var'] = 'black male traffic stops'\n",
    "grp = pd.concat([data,census_melt],axis=0)\n",
    "grp['district'] = np.where(grp['puma']==0,'Police Districts 1 - 5',\"Police Districts 6 & 7\")"
   ]
  },
  {
   "cell_type": "code",
   "execution_count": 85,
   "metadata": {},
   "outputs": [
    {
     "data": {
      "text/plain": [
       "<seaborn.axisgrid.FacetGrid at 0x2058402eef0>"
      ]
     },
     "execution_count": 85,
     "metadata": {},
     "output_type": "execute_result"
    },
    {
     "data": {
      "image/png": "[encoded data removed]",
      "text/plain": [
       "<Figure size 873x360 with 2 Axes>"
      ]
     },
     "metadata": {},
     "output_type": "display_data"
    }
   ],
   "source": [
    "g = sns.catplot(x='age_bucket',y='pct',hue='var',col='district',data=grp,kind='bar',\n",
    "                palette=sns.color_palette(['red', 'forestgreen']), order=selections)\n",
    "g.set_titles('Black Males\\n{col_name}')"
   ]
  },
  {
   "cell_type": "code",
   "execution_count": 86,
   "metadata": {
    "collapsed": true
   },
   "outputs": [],
   "source": [
    "vol = ['Call for service',\n",
    "'Information obtained from witnesses or informants',\n",
    "'BOLO/Lookout', \n",
    "'Individual<U+0092>s actions',\n",
    "'Prior knowledge',\n",
    "'Demeanor during a field contact',\n",
    "'Individual<U+0092>s characteristics',\n",
    "'Suspicion of criminal activity (self-initiated)',\n",
    "'Information obtained from law enforcement sources',\n",
    "\n",
    "'Calls for service',\n",
    "'Self-initiated: suspicion of a non-traffic crim. activity',\n",
    "'Info. obtained from LE sources']\n",
    "\n",
    "\n",
    "man = ['Warrant/court order',\n",
    "       'Observed equipment',\n",
    "'Observed moving violation',\n",
    "    'Traffic violation',\n",
    "        'Response to crash',\n",
    "            'Observed a weapon',\n",
    "'Safety Inspection',\n",
    "'Boating Violation',\n",
    "    'Response to Crash']\n",
    "df['police'] = np.where((df['stop_reason_nonticket'].isin(man))|(df['stop_reason_harbor'].isin(man))|(df['stop_reason_ticket'].isin(man)),'mandatory','voluntary')"
   ]
  },
  {
   "cell_type": "code",
   "execution_count": 127,
   "metadata": {},
   "outputs": [
    {
     "data": {
      "text/plain": [
       "voluntary    10616\n",
       "mandatory    10226\n",
       "Name: police, dtype: int64"
      ]
     },
     "execution_count": 127,
     "metadata": {},
     "output_type": "execute_result"
    }
   ],
   "source": [
    "df['police'].value_counts()"
   ]
  },
  {
   "cell_type": "code",
   "execution_count": null,
   "metadata": {
    "collapsed": true
   },
   "outputs": [],
   "source": [
    "df"
   ]
  }
 ],
 "metadata": {
  "kernelspec": {
   "display_name": "Python 3",
   "language": "python",
   "name": "python3"
  },
  "language_info": {
   "codemirror_mode": {
    "name": "ipython",
    "version": 3
   },
   "file_extension": ".py",
   "mimetype": "text/x-python",
   "name": "python",
   "nbconvert_exporter": "python",
   "pygments_lexer": "ipython3",
   "version": "3.6.3"
  }
 },
 "nbformat": 4,
 "nbformat_minor": 2
}
